{
  "nbformat": 4,
  "nbformat_minor": 0,
  "metadata": {
    "colab": {
      "provenance": [],
      "authorship_tag": "ABX9TyMqOMI/qjofLIosNDjhQn4j",
      "include_colab_link": true
    },
    "kernelspec": {
      "name": "python3",
      "display_name": "Python 3"
    },
    "language_info": {
      "name": "python"
    }
  },
  "cells": [
    {
      "cell_type": "markdown",
      "metadata": {
        "id": "view-in-github",
        "colab_type": "text"
      },
      "source": [
        "<a href=\"https://colab.research.google.com/github/AJAY962006/poai/blob/main/8queen.ipynb\" target=\"_parent\"><img src=\"https://colab.research.google.com/assets/colab-badge.svg\" alt=\"Open In Colab\"/></a>"
      ]
    },
    {
      "cell_type": "code",
      "source": [
        "# prompt: 8 queen problem\n",
        "\n",
        "def solve_n_queens(n):\n",
        "    def is_safe(board, row, col):\n",
        "        # Check this row on left side\n",
        "        for i in range(col):\n",
        "            if board[row][i] == 1:\n",
        "                return False\n",
        "\n",
        "        # Check upper diagonal on left side\n",
        "        for i, j in zip(range(row, -1, -1), range(col, -1, -1)):\n",
        "            if board[i][j] == 1:\n",
        "                return False\n",
        "\n",
        "        # Check lower diagonal on left side\n",
        "        for i, j in zip(range(row, n, 1), range(col, -1, -1)):\n",
        "            if board[i][j] == 1:\n",
        "                return False\n",
        "\n",
        "        return True\n",
        "\n",
        "    def solve_n_queens_util(board, col):\n",
        "        # base case: If all queens are placed\n",
        "        if col >= n:\n",
        "            return True\n",
        "\n",
        "        # Consider this column and try placing this queen in all rows one by one\n",
        "        for i in range(n):\n",
        "            if is_safe(board, i, col):\n",
        "                # Place this queen in board[i][col]\n",
        "                board[i][col] = 1\n",
        "\n",
        "                # recur to place rest of the queens\n",
        "                if solve_n_queens_util(board, col + 1) == True:\n",
        "                    return True\n",
        "\n",
        "                # If placing queen in board[i][col] doesn't lead to a solution,\n",
        "                # then remove queen from board[i][col] (backtrack)\n",
        "                board[i][col] = 0\n",
        "\n",
        "        # If the queen cannot be placed in any row in this column `col` then return false\n",
        "        return False\n",
        "\n",
        "    # Initialize the board\n",
        "    board = [[0 for _ in range(n)] for _ in range(n)]\n",
        "\n",
        "    if solve_n_queens_util(board, 0) == False:\n",
        "        print(\"Solution does not exist\")\n",
        "        return None\n",
        "\n",
        "    # Print the solution\n",
        "    return board\n",
        "\n",
        "def print_solution(board):\n",
        "    if board:\n",
        "        for row in board:\n",
        "            print(\" \".join([\"Q\" if cell == 1 else \".\" for cell in row]))\n",
        "\n",
        "# Example usage for 8 Queens:\n",
        "n = 8\n",
        "solution = solve_n_queens(n)\n",
        "print_solution(solution)\n"
      ],
      "metadata": {
        "id": "1s4LT1OkFAcH"
      },
      "execution_count": null,
      "outputs": []
    }
  ]
}